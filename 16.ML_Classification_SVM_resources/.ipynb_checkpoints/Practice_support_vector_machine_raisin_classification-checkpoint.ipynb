{
 "cells": [
  {
   "cell_type": "code",
   "execution_count": 1,
   "id": "126d88d4-6c0a-43e0-ba9e-c4e0d86eb156",
   "metadata": {},
   "outputs": [
    {
     "data": {
      "text/html": [
       "<div>\n",
       "<style scoped>\n",
       "    .dataframe tbody tr th:only-of-type {\n",
       "        vertical-align: middle;\n",
       "    }\n",
       "\n",
       "    .dataframe tbody tr th {\n",
       "        vertical-align: top;\n",
       "    }\n",
       "\n",
       "    .dataframe thead th {\n",
       "        text-align: right;\n",
       "    }\n",
       "</style>\n",
       "<table border=\"1\" class=\"dataframe\">\n",
       "  <thead>\n",
       "    <tr style=\"text-align: right;\">\n",
       "      <th></th>\n",
       "      <th>Area</th>\n",
       "      <th>MajorAxisLength</th>\n",
       "      <th>MinorAxisLength</th>\n",
       "      <th>Eccentricity</th>\n",
       "      <th>ConvexArea</th>\n",
       "      <th>Extent</th>\n",
       "      <th>Perimeter</th>\n",
       "      <th>Class</th>\n",
       "    </tr>\n",
       "  </thead>\n",
       "  <tbody>\n",
       "    <tr>\n",
       "      <th>370</th>\n",
       "      <td>32097</td>\n",
       "      <td>264.416384</td>\n",
       "      <td>157.990418</td>\n",
       "      <td>0.801864</td>\n",
       "      <td>33699</td>\n",
       "      <td>0.681118</td>\n",
       "      <td>713.775</td>\n",
       "      <td>Kecimen</td>\n",
       "    </tr>\n",
       "    <tr>\n",
       "      <th>241</th>\n",
       "      <td>43345</td>\n",
       "      <td>323.859214</td>\n",
       "      <td>175.185745</td>\n",
       "      <td>0.841066</td>\n",
       "      <td>46785</td>\n",
       "      <td>0.649276</td>\n",
       "      <td>877.020</td>\n",
       "      <td>Kecimen</td>\n",
       "    </tr>\n",
       "    <tr>\n",
       "      <th>287</th>\n",
       "      <td>68129</td>\n",
       "      <td>381.175490</td>\n",
       "      <td>230.056020</td>\n",
       "      <td>0.797330</td>\n",
       "      <td>70141</td>\n",
       "      <td>0.659704</td>\n",
       "      <td>1050.867</td>\n",
       "      <td>Kecimen</td>\n",
       "    </tr>\n",
       "    <tr>\n",
       "      <th>510</th>\n",
       "      <td>81901</td>\n",
       "      <td>450.827530</td>\n",
       "      <td>237.208989</td>\n",
       "      <td>0.850383</td>\n",
       "      <td>85000</td>\n",
       "      <td>0.583108</td>\n",
       "      <td>1192.014</td>\n",
       "      <td>Besni</td>\n",
       "    </tr>\n",
       "    <tr>\n",
       "      <th>261</th>\n",
       "      <td>46008</td>\n",
       "      <td>296.879284</td>\n",
       "      <td>212.027719</td>\n",
       "      <td>0.699954</td>\n",
       "      <td>48762</td>\n",
       "      <td>0.695279</td>\n",
       "      <td>860.580</td>\n",
       "      <td>Kecimen</td>\n",
       "    </tr>\n",
       "  </tbody>\n",
       "</table>\n",
       "</div>"
      ],
      "text/plain": [
       "      Area  MajorAxisLength  MinorAxisLength  Eccentricity  ConvexArea  \\\n",
       "370  32097       264.416384       157.990418      0.801864       33699   \n",
       "241  43345       323.859214       175.185745      0.841066       46785   \n",
       "287  68129       381.175490       230.056020      0.797330       70141   \n",
       "510  81901       450.827530       237.208989      0.850383       85000   \n",
       "261  46008       296.879284       212.027719      0.699954       48762   \n",
       "\n",
       "       Extent  Perimeter    Class  \n",
       "370  0.681118    713.775  Kecimen  \n",
       "241  0.649276    877.020  Kecimen  \n",
       "287  0.659704   1050.867  Kecimen  \n",
       "510  0.583108   1192.014    Besni  \n",
       "261  0.695279    860.580  Kecimen  "
      ]
     },
     "execution_count": 1,
     "metadata": {},
     "output_type": "execute_result"
    }
   ],
   "source": [
    "import pandas as pd\n",
    "\n",
    "df = pd.read_excel(\"Raisin_Dataset.xlsx\")\n",
    "df.sample(5)"
   ]
  },
  {
   "cell_type": "code",
   "execution_count": 2,
   "id": "74e2c153-d8c6-4159-acc8-ff6c0a004ed7",
   "metadata": {},
   "outputs": [],
   "source": [
    "X = df[[\"Area\", \"MajorAxisLength\", \"MinorAxisLength\", \"Eccentricity\", \"ConvexArea\", \"Extent\", \"Perimeter\"]]\n",
    "y = df[\"Class\"]\n",
    "\n",
    "from sklearn.model_selection import train_test_split\n",
    "\n",
    "X_train, X_test, y_train, y_test = train_test_split(X, y, test_size=0.2, random_state=10)"
   ]
  },
  {
   "cell_type": "code",
   "execution_count": 6,
   "id": "041c9868-bbf6-425f-88af-e9d227ccfbc2",
   "metadata": {},
   "outputs": [
    {
     "name": "stdout",
     "output_type": "stream",
     "text": [
      "              precision    recall  f1-score   support\n",
      "\n",
      "       Besni       0.86      0.75      0.80        83\n",
      "     Kecimen       0.81      0.90      0.85        97\n",
      "\n",
      "    accuracy                           0.83       180\n",
      "   macro avg       0.83      0.82      0.82       180\n",
      "weighted avg       0.83      0.83      0.83       180\n",
      "\n"
     ]
    },
    {
     "data": {
      "text/plain": [
       "array([229], dtype=int32)"
      ]
     },
     "execution_count": 6,
     "metadata": {},
     "output_type": "execute_result"
    }
   ],
   "source": [
    "from sklearn.svm import SVC\n",
    "from sklearn.metrics import classification_report\n",
    "model = SVC(kernel='rbf')\n",
    "\n",
    "model.fit(X_train,y_train)\n",
    "\n",
    "y_pread = model.predict(X_test)\n",
    "\n",
    "print(classification_report(y_test,y_pread))\n",
    "\n",
    "model.n_iter_"
   ]
  },
  {
   "cell_type": "code",
   "execution_count": 7,
   "id": "9c836d1c-843b-4c7d-b373-26977bd5ed5c",
   "metadata": {},
   "outputs": [
    {
     "name": "stdout",
     "output_type": "stream",
     "text": [
      "              precision    recall  f1-score   support\n",
      "\n",
      "       Besni       0.91      0.88      0.90        83\n",
      "     Kecimen       0.90      0.93      0.91        97\n",
      "\n",
      "    accuracy                           0.91       180\n",
      "   macro avg       0.91      0.90      0.90       180\n",
      "weighted avg       0.91      0.91      0.91       180\n",
      "\n"
     ]
    },
    {
     "data": {
      "text/plain": [
       "array([85005907], dtype=int32)"
      ]
     },
     "execution_count": 7,
     "metadata": {},
     "output_type": "execute_result"
    }
   ],
   "source": [
    "model = SVC(kernel='linear')\n",
    "\n",
    "model.fit(X_train,y_train)\n",
    "\n",
    "y_pread = model.predict(X_test)\n",
    "\n",
    "print(classification_report(y_test,y_pread))\n",
    "\n",
    "model.n_iter_"
   ]
  },
  {
   "cell_type": "code",
   "execution_count": null,
   "id": "5384391c-aedf-4898-8ff8-0afdf3ecde1c",
   "metadata": {},
   "outputs": [],
   "source": []
  }
 ],
 "metadata": {
  "kernelspec": {
   "display_name": "Python 3 (ipykernel)",
   "language": "python",
   "name": "python3"
  },
  "language_info": {
   "codemirror_mode": {
    "name": "ipython",
    "version": 3
   },
   "file_extension": ".py",
   "mimetype": "text/x-python",
   "name": "python",
   "nbconvert_exporter": "python",
   "pygments_lexer": "ipython3",
   "version": "3.13.5"
  }
 },
 "nbformat": 4,
 "nbformat_minor": 5
}

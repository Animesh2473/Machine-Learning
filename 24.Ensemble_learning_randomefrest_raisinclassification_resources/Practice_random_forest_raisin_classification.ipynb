{
 "cells": [
  {
   "cell_type": "code",
   "execution_count": 4,
   "id": "5010a2e5-f89d-4072-8aa9-9370019d31e2",
   "metadata": {},
   "outputs": [],
   "source": [
    "# model.fit(X_train, y_train)\n",
    "# y_pred = model.predict(X_test)\n",
    "# report = classification_report(y_test, y_pred)\n",
    "# print(report)"
   ]
  },
  {
   "cell_type": "code",
   "execution_count": 5,
   "id": "78f6f80e-3a98-4e29-ac58-b642fa094717",
   "metadata": {},
   "outputs": [
    {
     "data": {
      "text/html": [
       "<div>\n",
       "<style scoped>\n",
       "    .dataframe tbody tr th:only-of-type {\n",
       "        vertical-align: middle;\n",
       "    }\n",
       "\n",
       "    .dataframe tbody tr th {\n",
       "        vertical-align: top;\n",
       "    }\n",
       "\n",
       "    .dataframe thead th {\n",
       "        text-align: right;\n",
       "    }\n",
       "</style>\n",
       "<table border=\"1\" class=\"dataframe\">\n",
       "  <thead>\n",
       "    <tr style=\"text-align: right;\">\n",
       "      <th></th>\n",
       "      <th>Area</th>\n",
       "      <th>MajorAxisLength</th>\n",
       "      <th>MinorAxisLength</th>\n",
       "      <th>Eccentricity</th>\n",
       "      <th>ConvexArea</th>\n",
       "      <th>Extent</th>\n",
       "      <th>Perimeter</th>\n",
       "      <th>Class</th>\n",
       "    </tr>\n",
       "  </thead>\n",
       "  <tbody>\n",
       "    <tr>\n",
       "      <th>52</th>\n",
       "      <td>65727</td>\n",
       "      <td>403.194272</td>\n",
       "      <td>210.073264</td>\n",
       "      <td>0.853543</td>\n",
       "      <td>67372</td>\n",
       "      <td>0.616981</td>\n",
       "      <td>1030.155</td>\n",
       "      <td>Kecimen</td>\n",
       "    </tr>\n",
       "    <tr>\n",
       "      <th>443</th>\n",
       "      <td>68931</td>\n",
       "      <td>381.671734</td>\n",
       "      <td>231.528193</td>\n",
       "      <td>0.794995</td>\n",
       "      <td>71336</td>\n",
       "      <td>0.679311</td>\n",
       "      <td>1067.692</td>\n",
       "      <td>Kecimen</td>\n",
       "    </tr>\n",
       "    <tr>\n",
       "      <th>429</th>\n",
       "      <td>67404</td>\n",
       "      <td>349.011262</td>\n",
       "      <td>247.690269</td>\n",
       "      <td>0.704513</td>\n",
       "      <td>69607</td>\n",
       "      <td>0.745026</td>\n",
       "      <td>997.276</td>\n",
       "      <td>Kecimen</td>\n",
       "    </tr>\n",
       "    <tr>\n",
       "      <th>392</th>\n",
       "      <td>51539</td>\n",
       "      <td>330.747487</td>\n",
       "      <td>200.957939</td>\n",
       "      <td>0.794253</td>\n",
       "      <td>53060</td>\n",
       "      <td>0.725411</td>\n",
       "      <td>894.039</td>\n",
       "      <td>Kecimen</td>\n",
       "    </tr>\n",
       "    <tr>\n",
       "      <th>451</th>\n",
       "      <td>117592</td>\n",
       "      <td>533.292856</td>\n",
       "      <td>288.558319</td>\n",
       "      <td>0.840966</td>\n",
       "      <td>123587</td>\n",
       "      <td>0.730068</td>\n",
       "      <td>1432.006</td>\n",
       "      <td>Besni</td>\n",
       "    </tr>\n",
       "  </tbody>\n",
       "</table>\n",
       "</div>"
      ],
      "text/plain": [
       "       Area  MajorAxisLength  MinorAxisLength  Eccentricity  ConvexArea  \\\n",
       "52    65727       403.194272       210.073264      0.853543       67372   \n",
       "443   68931       381.671734       231.528193      0.794995       71336   \n",
       "429   67404       349.011262       247.690269      0.704513       69607   \n",
       "392   51539       330.747487       200.957939      0.794253       53060   \n",
       "451  117592       533.292856       288.558319      0.840966      123587   \n",
       "\n",
       "       Extent  Perimeter    Class  \n",
       "52   0.616981   1030.155  Kecimen  \n",
       "443  0.679311   1067.692  Kecimen  \n",
       "429  0.745026    997.276  Kecimen  \n",
       "392  0.725411    894.039  Kecimen  \n",
       "451  0.730068   1432.006    Besni  "
      ]
     },
     "execution_count": 5,
     "metadata": {},
     "output_type": "execute_result"
    }
   ],
   "source": [
    "import pandas as pd\n",
    "\n",
    "df = pd.read_excel(\"Raisin_Dataset.xlsx\")\n",
    "df.sample(5)"
   ]
  },
  {
   "cell_type": "code",
   "execution_count": 6,
   "id": "32e35ed8-0fdd-44db-9ad2-1f66f56dbe29",
   "metadata": {},
   "outputs": [],
   "source": [
    "X = df.drop('Class',axis=1)\n",
    "y = df[\"Class\"]\n",
    "\n",
    "from sklearn.model_selection import train_test_split\n",
    "\n",
    "X_train, X_test, y_train, y_test = train_test_split(X, y, test_size=0.2, random_state=5)"
   ]
  },
  {
   "cell_type": "code",
   "execution_count": null,
   "id": "0debd734-c8a5-4ea7-bc82-651813f28964",
   "metadata": {},
   "outputs": [],
   "source": [
    "from sklearn.s"
   ]
  }
 ],
 "metadata": {
  "kernelspec": {
   "display_name": "Python 3 (ipykernel)",
   "language": "python",
   "name": "python3"
  },
  "language_info": {
   "codemirror_mode": {
    "name": "ipython",
    "version": 3
   },
   "file_extension": ".py",
   "mimetype": "text/x-python",
   "name": "python",
   "nbconvert_exporter": "python",
   "pygments_lexer": "ipython3",
   "version": "3.13.4"
  }
 },
 "nbformat": 4,
 "nbformat_minor": 5
}

{
 "cells": [
  {
   "cell_type": "code",
   "execution_count": 1,
   "id": "b519bc75-c645-44d8-9244-839a4ad4ab09",
   "metadata": {},
   "outputs": [
    {
     "data": {
      "text/html": [
       "<div>\n",
       "<style scoped>\n",
       "    .dataframe tbody tr th:only-of-type {\n",
       "        vertical-align: middle;\n",
       "    }\n",
       "\n",
       "    .dataframe tbody tr th {\n",
       "        vertical-align: top;\n",
       "    }\n",
       "\n",
       "    .dataframe thead th {\n",
       "        text-align: right;\n",
       "    }\n",
       "</style>\n",
       "<table border=\"1\" class=\"dataframe\">\n",
       "  <thead>\n",
       "    <tr style=\"text-align: right;\">\n",
       "      <th></th>\n",
       "      <th>area_sqr_ft</th>\n",
       "      <th>bedrooms</th>\n",
       "      <th>color</th>\n",
       "      <th>price_lakhs</th>\n",
       "    </tr>\n",
       "  </thead>\n",
       "  <tbody>\n",
       "    <tr>\n",
       "      <th>0</th>\n",
       "      <td>3774</td>\n",
       "      <td>2</td>\n",
       "      <td>Red</td>\n",
       "      <td>216</td>\n",
       "    </tr>\n",
       "    <tr>\n",
       "      <th>1</th>\n",
       "      <td>1460</td>\n",
       "      <td>3</td>\n",
       "      <td>Gray</td>\n",
       "      <td>88</td>\n",
       "    </tr>\n",
       "    <tr>\n",
       "      <th>2</th>\n",
       "      <td>1894</td>\n",
       "      <td>4</td>\n",
       "      <td>Gray</td>\n",
       "      <td>147</td>\n",
       "    </tr>\n",
       "    <tr>\n",
       "      <th>3</th>\n",
       "      <td>1730</td>\n",
       "      <td>2</td>\n",
       "      <td>Blue</td>\n",
       "      <td>84</td>\n",
       "    </tr>\n",
       "    <tr>\n",
       "      <th>4</th>\n",
       "      <td>1695</td>\n",
       "      <td>1</td>\n",
       "      <td>Blue</td>\n",
       "      <td>77</td>\n",
       "    </tr>\n",
       "  </tbody>\n",
       "</table>\n",
       "</div>"
      ],
      "text/plain": [
       "   area_sqr_ft  bedrooms color  price_lakhs\n",
       "0         3774         2   Red          216\n",
       "1         1460         3  Gray           88\n",
       "2         1894         4  Gray          147\n",
       "3         1730         2  Blue           84\n",
       "4         1695         1  Blue           77"
      ]
     },
     "execution_count": 1,
     "metadata": {},
     "output_type": "execute_result"
    }
   ],
   "source": [
    "import pandas as pd\n",
    "df = pd.read_csv('home_prices.csv')\n",
    "df.head()"
   ]
  },
  {
   "cell_type": "code",
   "execution_count": 2,
   "id": "ca987bbd-7630-4e00-b9cc-71b185adb225",
   "metadata": {},
   "outputs": [
    {
     "data": {
      "text/plain": [
       "array(['Red', 'Gray', 'Blue', 'Yellow', 'Green', 'White'], dtype=object)"
      ]
     },
     "execution_count": 2,
     "metadata": {},
     "output_type": "execute_result"
    }
   ],
   "source": [
    "df.color.unique()"
   ]
  },
  {
   "cell_type": "code",
   "execution_count": 3,
   "id": "19d61c44-57d2-4714-a381-a399b62a4987",
   "metadata": {},
   "outputs": [
    {
     "data": {
      "text/html": [
       "<div>\n",
       "<style scoped>\n",
       "    .dataframe tbody tr th:only-of-type {\n",
       "        vertical-align: middle;\n",
       "    }\n",
       "\n",
       "    .dataframe tbody tr th {\n",
       "        vertical-align: top;\n",
       "    }\n",
       "\n",
       "    .dataframe thead th {\n",
       "        text-align: right;\n",
       "    }\n",
       "</style>\n",
       "<table border=\"1\" class=\"dataframe\">\n",
       "  <thead>\n",
       "    <tr style=\"text-align: right;\">\n",
       "      <th></th>\n",
       "      <th>area_sqr_ft</th>\n",
       "      <th>bedrooms</th>\n",
       "      <th>price_lakhs</th>\n",
       "      <th>color_Gray</th>\n",
       "      <th>color_Green</th>\n",
       "      <th>color_Red</th>\n",
       "      <th>color_White</th>\n",
       "      <th>color_Yellow</th>\n",
       "    </tr>\n",
       "  </thead>\n",
       "  <tbody>\n",
       "    <tr>\n",
       "      <th>0</th>\n",
       "      <td>3774</td>\n",
       "      <td>2</td>\n",
       "      <td>216</td>\n",
       "      <td>False</td>\n",
       "      <td>False</td>\n",
       "      <td>True</td>\n",
       "      <td>False</td>\n",
       "      <td>False</td>\n",
       "    </tr>\n",
       "    <tr>\n",
       "      <th>1</th>\n",
       "      <td>1460</td>\n",
       "      <td>3</td>\n",
       "      <td>88</td>\n",
       "      <td>True</td>\n",
       "      <td>False</td>\n",
       "      <td>False</td>\n",
       "      <td>False</td>\n",
       "      <td>False</td>\n",
       "    </tr>\n",
       "    <tr>\n",
       "      <th>2</th>\n",
       "      <td>1894</td>\n",
       "      <td>4</td>\n",
       "      <td>147</td>\n",
       "      <td>True</td>\n",
       "      <td>False</td>\n",
       "      <td>False</td>\n",
       "      <td>False</td>\n",
       "      <td>False</td>\n",
       "    </tr>\n",
       "    <tr>\n",
       "      <th>3</th>\n",
       "      <td>1730</td>\n",
       "      <td>2</td>\n",
       "      <td>84</td>\n",
       "      <td>False</td>\n",
       "      <td>False</td>\n",
       "      <td>False</td>\n",
       "      <td>False</td>\n",
       "      <td>False</td>\n",
       "    </tr>\n",
       "    <tr>\n",
       "      <th>4</th>\n",
       "      <td>1695</td>\n",
       "      <td>1</td>\n",
       "      <td>77</td>\n",
       "      <td>False</td>\n",
       "      <td>False</td>\n",
       "      <td>False</td>\n",
       "      <td>False</td>\n",
       "      <td>False</td>\n",
       "    </tr>\n",
       "  </tbody>\n",
       "</table>\n",
       "</div>"
      ],
      "text/plain": [
       "   area_sqr_ft  bedrooms  price_lakhs  color_Gray  color_Green  color_Red  \\\n",
       "0         3774         2          216       False        False       True   \n",
       "1         1460         3           88        True        False      False   \n",
       "2         1894         4          147        True        False      False   \n",
       "3         1730         2           84       False        False      False   \n",
       "4         1695         1           77       False        False      False   \n",
       "\n",
       "   color_White  color_Yellow  \n",
       "0        False         False  \n",
       "1        False         False  \n",
       "2        False         False  \n",
       "3        False         False  \n",
       "4        False         False  "
      ]
     },
     "execution_count": 3,
     "metadata": {},
     "output_type": "execute_result"
    }
   ],
   "source": [
    "df_encoded = pd.get_dummies(df,columns=['color'],drop_first=True)\n",
    "df_encoded.head()"
   ]
  },
  {
   "cell_type": "code",
   "execution_count": 5,
   "id": "1ae42d77-c969-4735-983f-5e5af9dccf5f",
   "metadata": {},
   "outputs": [
    {
     "data": {
      "text/html": [
       "<div>\n",
       "<style scoped>\n",
       "    .dataframe tbody tr th:only-of-type {\n",
       "        vertical-align: middle;\n",
       "    }\n",
       "\n",
       "    .dataframe tbody tr th {\n",
       "        vertical-align: top;\n",
       "    }\n",
       "\n",
       "    .dataframe thead th {\n",
       "        text-align: right;\n",
       "    }\n",
       "</style>\n",
       "<table border=\"1\" class=\"dataframe\">\n",
       "  <thead>\n",
       "    <tr style=\"text-align: right;\">\n",
       "      <th></th>\n",
       "      <th>area_sqr_ft</th>\n",
       "      <th>bedrooms</th>\n",
       "      <th>price_lakhs</th>\n",
       "      <th>color_Gray</th>\n",
       "      <th>color_Green</th>\n",
       "      <th>color_Red</th>\n",
       "      <th>color_White</th>\n",
       "      <th>color_Yellow</th>\n",
       "    </tr>\n",
       "  </thead>\n",
       "  <tbody>\n",
       "    <tr>\n",
       "      <th>area_sqr_ft</th>\n",
       "      <td>1.000000</td>\n",
       "      <td>0.185810</td>\n",
       "      <td>0.945365</td>\n",
       "      <td>-0.068944</td>\n",
       "      <td>-0.032012</td>\n",
       "      <td>0.059055</td>\n",
       "      <td>0.063827</td>\n",
       "      <td>-0.037819</td>\n",
       "    </tr>\n",
       "    <tr>\n",
       "      <th>bedrooms</th>\n",
       "      <td>0.185810</td>\n",
       "      <td>1.000000</td>\n",
       "      <td>0.439445</td>\n",
       "      <td>0.040882</td>\n",
       "      <td>-0.120207</td>\n",
       "      <td>-0.004177</td>\n",
       "      <td>-0.023676</td>\n",
       "      <td>0.015286</td>\n",
       "    </tr>\n",
       "    <tr>\n",
       "      <th>price_lakhs</th>\n",
       "      <td>0.945365</td>\n",
       "      <td>0.439445</td>\n",
       "      <td>1.000000</td>\n",
       "      <td>-0.040565</td>\n",
       "      <td>-0.041959</td>\n",
       "      <td>0.045803</td>\n",
       "      <td>0.051122</td>\n",
       "      <td>-0.046673</td>\n",
       "    </tr>\n",
       "    <tr>\n",
       "      <th>color_Gray</th>\n",
       "      <td>-0.068944</td>\n",
       "      <td>0.040882</td>\n",
       "      <td>-0.040565</td>\n",
       "      <td>1.000000</td>\n",
       "      <td>-0.214409</td>\n",
       "      <td>-0.230990</td>\n",
       "      <td>-0.205931</td>\n",
       "      <td>-0.217205</td>\n",
       "    </tr>\n",
       "    <tr>\n",
       "      <th>color_Green</th>\n",
       "      <td>-0.032012</td>\n",
       "      <td>-0.120207</td>\n",
       "      <td>-0.041959</td>\n",
       "      <td>-0.214409</td>\n",
       "      <td>1.000000</td>\n",
       "      <td>-0.190117</td>\n",
       "      <td>-0.169493</td>\n",
       "      <td>-0.178771</td>\n",
       "    </tr>\n",
       "    <tr>\n",
       "      <th>color_Red</th>\n",
       "      <td>0.059055</td>\n",
       "      <td>-0.004177</td>\n",
       "      <td>0.045803</td>\n",
       "      <td>-0.230990</td>\n",
       "      <td>-0.190117</td>\n",
       "      <td>1.000000</td>\n",
       "      <td>-0.182600</td>\n",
       "      <td>-0.192596</td>\n",
       "    </tr>\n",
       "    <tr>\n",
       "      <th>color_White</th>\n",
       "      <td>0.063827</td>\n",
       "      <td>-0.023676</td>\n",
       "      <td>0.051122</td>\n",
       "      <td>-0.205931</td>\n",
       "      <td>-0.169493</td>\n",
       "      <td>-0.182600</td>\n",
       "      <td>1.000000</td>\n",
       "      <td>-0.171703</td>\n",
       "    </tr>\n",
       "    <tr>\n",
       "      <th>color_Yellow</th>\n",
       "      <td>-0.037819</td>\n",
       "      <td>0.015286</td>\n",
       "      <td>-0.046673</td>\n",
       "      <td>-0.217205</td>\n",
       "      <td>-0.178771</td>\n",
       "      <td>-0.192596</td>\n",
       "      <td>-0.171703</td>\n",
       "      <td>1.000000</td>\n",
       "    </tr>\n",
       "  </tbody>\n",
       "</table>\n",
       "</div>"
      ],
      "text/plain": [
       "              area_sqr_ft  bedrooms  price_lakhs  color_Gray  color_Green  \\\n",
       "area_sqr_ft      1.000000  0.185810     0.945365   -0.068944    -0.032012   \n",
       "bedrooms         0.185810  1.000000     0.439445    0.040882    -0.120207   \n",
       "price_lakhs      0.945365  0.439445     1.000000   -0.040565    -0.041959   \n",
       "color_Gray      -0.068944  0.040882    -0.040565    1.000000    -0.214409   \n",
       "color_Green     -0.032012 -0.120207    -0.041959   -0.214409     1.000000   \n",
       "color_Red        0.059055 -0.004177     0.045803   -0.230990    -0.190117   \n",
       "color_White      0.063827 -0.023676     0.051122   -0.205931    -0.169493   \n",
       "color_Yellow    -0.037819  0.015286    -0.046673   -0.217205    -0.178771   \n",
       "\n",
       "              color_Red  color_White  color_Yellow  \n",
       "area_sqr_ft    0.059055     0.063827     -0.037819  \n",
       "bedrooms      -0.004177    -0.023676      0.015286  \n",
       "price_lakhs    0.045803     0.051122     -0.046673  \n",
       "color_Gray    -0.230990    -0.205931     -0.217205  \n",
       "color_Green   -0.190117    -0.169493     -0.178771  \n",
       "color_Red      1.000000    -0.182600     -0.192596  \n",
       "color_White   -0.182600     1.000000     -0.171703  \n",
       "color_Yellow  -0.192596    -0.171703      1.000000  "
      ]
     },
     "execution_count": 5,
     "metadata": {},
     "output_type": "execute_result"
    }
   ],
   "source": [
    "cm = df_encoded.corr()\n",
    "cm"
   ]
  },
  {
   "cell_type": "code",
   "execution_count": 8,
   "id": "66264c79-e096-48af-9928-b1f82b04988d",
   "metadata": {},
   "outputs": [
    {
     "data": {
      "text/plain": [
       "area_sqr_ft     0.945365\n",
       "bedrooms        0.439445\n",
       "price_lakhs     1.000000\n",
       "color_Gray      0.040565\n",
       "color_Green     0.041959\n",
       "color_Red       0.045803\n",
       "color_White     0.051122\n",
       "color_Yellow    0.046673\n",
       "Name: price_lakhs, dtype: float64"
      ]
     },
     "execution_count": 8,
     "metadata": {},
     "output_type": "execute_result"
    }
   ],
   "source": [
    "cm_price = abs(cm['price_lakhs'])\n",
    "cm_price"
   ]
  },
  {
   "cell_type": "code",
   "execution_count": 12,
   "id": "cecf54cd-5dcc-4e34-8106-87b97109f02b",
   "metadata": {},
   "outputs": [
    {
     "data": {
      "text/plain": [
       "Index(['area_sqr_ft', 'bedrooms'], dtype='object')"
      ]
     },
     "execution_count": 12,
     "metadata": {},
     "output_type": "execute_result"
    }
   ],
   "source": [
    "selected_features = cm_price[cm_price > 0.2].index.drop('price_lakhs')\n",
    "selected_features"
   ]
  },
  {
   "cell_type": "code",
   "execution_count": 19,
   "id": "d6f112c0-9a9a-4627-85b2-e0bada29454b",
   "metadata": {},
   "outputs": [],
   "source": [
    "X = df[selected_features]\n",
    "y = df['price_lakhs']"
   ]
  },
  {
   "cell_type": "code",
   "execution_count": 21,
   "id": "d28c326f-153c-4a58-94d9-fe6c2f30beec",
   "metadata": {},
   "outputs": [
    {
     "name": "stdout",
     "output_type": "stream",
     "text": [
      "R2: 0.9689466488379601 MSE: 76.63332198278805\n"
     ]
    }
   ],
   "source": [
    "from sklearn.linear_model import LinearRegression\n",
    "from sklearn.model_selection import train_test_split\n",
    "from sklearn.metrics import mean_squared_error,r2_score\n",
    "\n",
    "X_train, X_test, y_train, y_test = train_test_split(X, y, test_size=0.2, random_state=42)\n",
    "\n",
    "# Train a Linear Regression model\n",
    "model = LinearRegression()\n",
    "model.fit(X_train, y_train)\n",
    "\n",
    "# Predict and evaluate the model\n",
    "y_pred = model.predict(X_test)\n",
    "mse = mean_squared_error(y_test, y_pred)\n",
    "r2 = r2_score(y_test, y_pred)\n",
    "\n",
    "print(\"R2:\", r2, \"MSE:\", mse)"
   ]
  },
  {
   "cell_type": "markdown",
   "id": "2818e23b-c745-4c4b-b9a7-6bab7f62593f",
   "metadata": {},
   "source": [
    "<img src='Screenshot 2025-07-06 105109.png' />"
   ]
  },
  {
   "cell_type": "code",
   "execution_count": null,
   "id": "7b3db264-8c94-4afe-b2c3-06f1ca54c2e3",
   "metadata": {},
   "outputs": [],
   "source": []
  }
 ],
 "metadata": {
  "kernelspec": {
   "display_name": "Python 3 (ipykernel)",
   "language": "python",
   "name": "python3"
  },
  "language_info": {
   "codemirror_mode": {
    "name": "ipython",
    "version": 3
   },
   "file_extension": ".py",
   "mimetype": "text/x-python",
   "name": "python",
   "nbconvert_exporter": "python",
   "pygments_lexer": "ipython3",
   "version": "3.13.5"
  }
 },
 "nbformat": 4,
 "nbformat_minor": 5
}

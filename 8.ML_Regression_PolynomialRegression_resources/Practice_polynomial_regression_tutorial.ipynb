{
 "cells": [
  {
   "cell_type": "code",
   "execution_count": 7,
   "id": "a8e12d4a-8273-4ffb-822f-5c01cef4c4c0",
   "metadata": {},
   "outputs": [],
   "source": [
    "import pandas as pd\n",
    "import numpy as np\n",
    "import matplotlib.pyplot as plt\n",
    "from sklearn.linear_model import LinearRegression\n",
    "from sklearn.model_selection import train_test_split\n",
    "from sklearn.metrics import mean_absolute_error, mean_squared_error,r2_score"
   ]
  },
  {
   "cell_type": "code",
   "execution_count": 8,
   "id": "cf21c633-b78a-4ac9-b9b8-79d169d69e87",
   "metadata": {},
   "outputs": [
    {
     "data": {
      "text/plain": [
       "<bound method NDFrame.head of     car_id  mileage  selling_price\n",
       "0     A001   126958           9734\n",
       "1     A002   151867           8775\n",
       "2     A003   136932           3928\n",
       "3     A004   108694          12454\n",
       "4     A005   124879           6634\n",
       "..     ...      ...            ...\n",
       "295   A296    17183          29327\n",
       "296   A297   165371           2211\n",
       "297   A298   148946           9764\n",
       "298   A299   121336           7099\n",
       "299   A300    37711          21697\n",
       "\n",
       "[300 rows x 3 columns]>"
      ]
     },
     "execution_count": 8,
     "metadata": {},
     "output_type": "execute_result"
    }
   ],
   "source": [
    "# import and load data\n",
    "df = pd.read_csv(\"car_prices.csv\")\n",
    "df.head"
   ]
  },
  {
   "cell_type": "code",
   "execution_count": 9,
   "id": "e57dd8cc-acbe-43ca-bdbb-b1f1017ef494",
   "metadata": {},
   "outputs": [
    {
     "name": "stdout",
     "output_type": "stream",
     "text": [
      "<class 'pandas.core.frame.DataFrame'>\n",
      "RangeIndex: 300 entries, 0 to 299\n",
      "Data columns (total 3 columns):\n",
      " #   Column         Non-Null Count  Dtype \n",
      "---  ------         --------------  ----- \n",
      " 0   car_id         300 non-null    object\n",
      " 1   mileage        300 non-null    int64 \n",
      " 2   selling_price  300 non-null    int64 \n",
      "dtypes: int64(2), object(1)\n",
      "memory usage: 7.2+ KB\n"
     ]
    }
   ],
   "source": [
    "df.info()"
   ]
  },
  {
   "cell_type": "code",
   "execution_count": 10,
   "id": "97a39a8d-26a7-4a43-b66b-5dad1d2e935e",
   "metadata": {},
   "outputs": [
    {
     "data": {
      "text/html": [
       "<div>\n",
       "<style scoped>\n",
       "    .dataframe tbody tr th:only-of-type {\n",
       "        vertical-align: middle;\n",
       "    }\n",
       "\n",
       "    .dataframe tbody tr th {\n",
       "        vertical-align: top;\n",
       "    }\n",
       "\n",
       "    .dataframe thead th {\n",
       "        text-align: right;\n",
       "    }\n",
       "</style>\n",
       "<table border=\"1\" class=\"dataframe\">\n",
       "  <thead>\n",
       "    <tr style=\"text-align: right;\">\n",
       "      <th></th>\n",
       "      <th>mileage</th>\n",
       "      <th>selling_price</th>\n",
       "    </tr>\n",
       "  </thead>\n",
       "  <tbody>\n",
       "    <tr>\n",
       "      <th>count</th>\n",
       "      <td>300.000000</td>\n",
       "      <td>300.000000</td>\n",
       "    </tr>\n",
       "    <tr>\n",
       "      <th>mean</th>\n",
       "      <td>102900.683333</td>\n",
       "      <td>12390.933333</td>\n",
       "    </tr>\n",
       "    <tr>\n",
       "      <th>std</th>\n",
       "      <td>55933.064653</td>\n",
       "      <td>7268.485042</td>\n",
       "    </tr>\n",
       "    <tr>\n",
       "      <th>min</th>\n",
       "      <td>5769.000000</td>\n",
       "      <td>-1701.000000</td>\n",
       "    </tr>\n",
       "    <tr>\n",
       "      <th>25%</th>\n",
       "      <td>55648.000000</td>\n",
       "      <td>6734.750000</td>\n",
       "    </tr>\n",
       "    <tr>\n",
       "      <th>50%</th>\n",
       "      <td>111194.500000</td>\n",
       "      <td>10654.000000</td>\n",
       "    </tr>\n",
       "    <tr>\n",
       "      <th>75%</th>\n",
       "      <td>143282.000000</td>\n",
       "      <td>17046.750000</td>\n",
       "    </tr>\n",
       "    <tr>\n",
       "      <th>max</th>\n",
       "      <td>199806.000000</td>\n",
       "      <td>31186.000000</td>\n",
       "    </tr>\n",
       "  </tbody>\n",
       "</table>\n",
       "</div>"
      ],
      "text/plain": [
       "             mileage  selling_price\n",
       "count     300.000000     300.000000\n",
       "mean   102900.683333   12390.933333\n",
       "std     55933.064653    7268.485042\n",
       "min      5769.000000   -1701.000000\n",
       "25%     55648.000000    6734.750000\n",
       "50%    111194.500000   10654.000000\n",
       "75%    143282.000000   17046.750000\n",
       "max    199806.000000   31186.000000"
      ]
     },
     "execution_count": 10,
     "metadata": {},
     "output_type": "execute_result"
    }
   ],
   "source": [
    "df.describe()"
   ]
  },
  {
   "cell_type": "code",
   "execution_count": 11,
   "id": "288d2b32-b952-40bc-b71e-eb70c7cab4d3",
   "metadata": {},
   "outputs": [
    {
     "data": {
      "text/plain": [
       "car_id           0\n",
       "mileage          0\n",
       "selling_price    0\n",
       "dtype: int64"
      ]
     },
     "execution_count": 11,
     "metadata": {},
     "output_type": "execute_result"
    }
   ],
   "source": [
    "df.isna().sum()"
   ]
  },
  {
   "cell_type": "code",
   "execution_count": 13,
   "id": "985bbc22-7ade-489e-b7d3-51c9f499d461",
   "metadata": {},
   "outputs": [
    {
     "data": {
      "text/html": [
       "<div>\n",
       "<style scoped>\n",
       "    .dataframe tbody tr th:only-of-type {\n",
       "        vertical-align: middle;\n",
       "    }\n",
       "\n",
       "    .dataframe tbody tr th {\n",
       "        vertical-align: top;\n",
       "    }\n",
       "\n",
       "    .dataframe thead th {\n",
       "        text-align: right;\n",
       "    }\n",
       "</style>\n",
       "<table border=\"1\" class=\"dataframe\">\n",
       "  <thead>\n",
       "    <tr style=\"text-align: right;\">\n",
       "      <th></th>\n",
       "      <th>car_id</th>\n",
       "      <th>mileage</th>\n",
       "      <th>selling_price</th>\n",
       "    </tr>\n",
       "  </thead>\n",
       "  <tbody>\n",
       "    <tr>\n",
       "      <th>0</th>\n",
       "      <td>A001</td>\n",
       "      <td>126958</td>\n",
       "      <td>9734</td>\n",
       "    </tr>\n",
       "    <tr>\n",
       "      <th>1</th>\n",
       "      <td>A002</td>\n",
       "      <td>151867</td>\n",
       "      <td>8775</td>\n",
       "    </tr>\n",
       "    <tr>\n",
       "      <th>2</th>\n",
       "      <td>A003</td>\n",
       "      <td>136932</td>\n",
       "      <td>3928</td>\n",
       "    </tr>\n",
       "    <tr>\n",
       "      <th>3</th>\n",
       "      <td>A004</td>\n",
       "      <td>108694</td>\n",
       "      <td>12454</td>\n",
       "    </tr>\n",
       "    <tr>\n",
       "      <th>4</th>\n",
       "      <td>A005</td>\n",
       "      <td>124879</td>\n",
       "      <td>6634</td>\n",
       "    </tr>\n",
       "  </tbody>\n",
       "</table>\n",
       "</div>"
      ],
      "text/plain": [
       "  car_id  mileage  selling_price\n",
       "0   A001   126958           9734\n",
       "1   A002   151867           8775\n",
       "2   A003   136932           3928\n",
       "3   A004   108694          12454\n",
       "4   A005   124879           6634"
      ]
     },
     "execution_count": 13,
     "metadata": {},
     "output_type": "execute_result"
    }
   ],
   "source": [
    "df.head()"
   ]
  },
  {
   "cell_type": "code",
   "execution_count": 12,
   "id": "14f0a01b-d875-4579-bef9-5406f16fe455",
   "metadata": {},
   "outputs": [
    {
     "data": {
      "image/png": "[encoded data removed]",
      "text/plain": [
       "<Figure size 800x600 with 1 Axes>"
      ]
     },
     "metadata": {},
     "output_type": "display_data"
    }
   ],
   "source": [
    "# create scatter plot\n",
    "plt.figure(figsize=(8,6))\n",
    "plt.scatter(df.mileage, df.selling_price)\n",
    "plt.show()"
   ]
  },
  {
   "cell_type": "code",
   "execution_count": 14,
   "id": "c8d2680b-61ec-4b1c-948b-d9e1f737a171",
   "metadata": {},
   "outputs": [
    {
     "data": {
      "text/plain": [
       "((240,), (60,), (240,), (60,))"
      ]
     },
     "execution_count": 14,
     "metadata": {},
     "output_type": "execute_result"
    }
   ],
   "source": [
    "#create train test split\n",
    "X = df.car_id\n",
    "y = df.mileage\n",
    "\n",
    "X_train,X_test,y_train,y_test = train_test_split(X,y,test_size=0.2,random_state=42)\n",
    "\n",
    "X_train.shape,X_test.shape,y_train.shape,y_test.shape"
   ]
  },
  {
   "cell_type": "code",
   "execution_count": 17,
   "id": "24650da6-3d8e-4683-93fd-9a49fe02cbe9",
   "metadata": {},
   "outputs": [
    {
     "name": "stdout",
     "output_type": "stream",
     "text": [
      "[[ 1.  1.  2.  3.  4.  1.  2.  3.  4.  4.  6.  8.  9. 12. 16.]]\n"
     ]
    }
   ],
   "source": [
    "# Create polynomial regression\n",
    "# from sklearn.preprocessing import PolynomialFeatures\n",
    "# Create an instance of that class where degree = 2\n",
    "#fit that instance to the data \n",
    "# experement with np array at first to see what is hapening\n",
    "from sklearn.preprocessing import PolynomialFeatures\n",
    "poly =  PolynomialFeatures(degree=2)\n",
    "\n",
    "poly_data = np.array([[1,2,3,4]])\n",
    "\n",
    "poly_data_tranformed = poly.fit_transform(poly_data)\n",
    "\n",
    "print(poly_data_tranformed)"
   ]
  },
  {
   "cell_type": "code",
   "execution_count": 5,
   "id": "e24a01ed-a537-4c7a-91e1-74d0ca449edb",
   "metadata": {},
   "outputs": [],
   "source": [
    "#fit and load the model in linear regression"
   ]
  },
  {
   "cell_type": "code",
   "execution_count": 6,
   "id": "26174558-6ce0-4d4a-8f42-212805976d24",
   "metadata": {},
   "outputs": [],
   "source": [
    "#evaluate the model"
   ]
  },
  {
   "cell_type": "code",
   "execution_count": null,
   "id": "c6f65c22-7102-461c-a4b8-2744787af65c",
   "metadata": {},
   "outputs": [],
   "source": []
  }
 ],
 "metadata": {
  "kernelspec": {
   "display_name": "Python 3 (ipykernel)",
   "language": "python",
   "name": "python3"
  },
  "language_info": {
   "codemirror_mode": {
    "name": "ipython",
    "version": 3
   },
   "file_extension": ".py",
   "mimetype": "text/x-python",
   "name": "python",
   "nbconvert_exporter": "python",
   "pygments_lexer": "ipython3",
   "version": "3.13.5"
  }
 },
 "nbformat": 4,
 "nbformat_minor": 5
}

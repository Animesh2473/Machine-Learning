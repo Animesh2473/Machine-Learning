{
 "cells": [
  {
   "cell_type": "markdown",
   "id": "dba33c53-92e9-4d50-b46b-52a9a5f2ced0",
   "metadata": {},
   "source": [
    "### Problem Statement\n",
    "\n",
    "You are a data scientist / AI engineer working on a binary classification problem. You have been provided with a dataset named **`\"social_network_ads.csv\"`**, which includes information about users' age, gender, estimated salary, and whether they purchased a product or not. The dataset comprises the following columns:\n",
    "\n",
    "- `user_id:` The unique identifier for each user.\n",
    "- `gender:` The gender of the user.\n",
    "- `age:` The age of the user.\n",
    "- `estimated_salary:` The estimated salary of the user.\n",
    "- `purchased:` Whether the user purchased the product or not (0 for No, 1 for Yes).\n",
    "  \n",
    "Your task is to use this dataset to build and evaluate a logistic regression model to predict whether a user will purchase the product based on their age, gender and estimated salary. You will also evaluate the model's performance using precision, recall, and other classification metrics.\n",
    "\n",
    "**Dataset credits:** Akram (https://www.kaggle.com/datasets/akram24/social-network-ads)"
   ]
  },
  {
   "cell_type": "markdown",
   "id": "2af9e8a8-dc96-437b-9603-17ba28451daa",
   "metadata": {},
   "source": [
    "**Import Necessary Libraries**"
   ]
  },
  {
   "cell_type": "code",
   "execution_count": 1,
   "id": "795f5f5e-8cf1-4097-9d52-e579473995d7",
   "metadata": {},
   "outputs": [],
   "source": [
    "#Import Necessary Libraries\n",
    "import pandas as pd\n",
    "import numpy as np\n",
    "import matplotlib.pyplot as plt\n",
    "from sklearn.model_selection import train_test_split\n",
    "from sklearn.linear_model import LogisticRegression\n",
    "from sklearn.metrics import classification_report\n",
    "from sklearn.compose import ColumnTransformer\n",
    "from sklearn.preprocessing import OneHotEncoder"
   ]
  },
  {
   "cell_type": "markdown",
   "id": "c65dbf83-4cd3-4faf-8c7d-160ff41bb171",
   "metadata": {},
   "source": [
    "### Task 1: Data Preparation and Exploration\n",
    "\n",
    "1. Import the data from the `\"social_network_ads.csv\"` file and store it in a variable df.\n",
    "2. Display the number of rows and columns in the dataset.\n",
    "3. Display the first few rows of the dataset to get an overview.\n",
    "4. Check for any missing values in the dataset and handle them appropriately.\n",
    "5. Visualize the distribution of users' age and estimated salary using scatter plots."
   ]
  },
  {
   "cell_type": "code",
   "execution_count": 2,
   "id": "af453a2b-9c2a-49f3-8c52-8da3bb5e94ac",
   "metadata": {},
   "outputs": [
    {
     "name": "stdout",
     "output_type": "stream",
     "text": [
      "(400, 5)\n"
     ]
    },
    {
     "data": {
      "text/html": [
       "<div>\n",
       "<style scoped>\n",
       "    .dataframe tbody tr th:only-of-type {\n",
       "        vertical-align: middle;\n",
       "    }\n",
       "\n",
       "    .dataframe tbody tr th {\n",
       "        vertical-align: top;\n",
       "    }\n",
       "\n",
       "    .dataframe thead th {\n",
       "        text-align: right;\n",
       "    }\n",
       "</style>\n",
       "<table border=\"1\" class=\"dataframe\">\n",
       "  <thead>\n",
       "    <tr style=\"text-align: right;\">\n",
       "      <th></th>\n",
       "      <th>user_id</th>\n",
       "      <th>gender</th>\n",
       "      <th>age</th>\n",
       "      <th>estimated_salary</th>\n",
       "      <th>purchased</th>\n",
       "    </tr>\n",
       "  </thead>\n",
       "  <tbody>\n",
       "    <tr>\n",
       "      <th>0</th>\n",
       "      <td>15624510</td>\n",
       "      <td>Male</td>\n",
       "      <td>19</td>\n",
       "      <td>19000</td>\n",
       "      <td>0</td>\n",
       "    </tr>\n",
       "    <tr>\n",
       "      <th>1</th>\n",
       "      <td>15810944</td>\n",
       "      <td>Male</td>\n",
       "      <td>35</td>\n",
       "      <td>20000</td>\n",
       "      <td>0</td>\n",
       "    </tr>\n",
       "    <tr>\n",
       "      <th>2</th>\n",
       "      <td>15668575</td>\n",
       "      <td>Female</td>\n",
       "      <td>26</td>\n",
       "      <td>43000</td>\n",
       "      <td>0</td>\n",
       "    </tr>\n",
       "    <tr>\n",
       "      <th>3</th>\n",
       "      <td>15603246</td>\n",
       "      <td>Female</td>\n",
       "      <td>27</td>\n",
       "      <td>57000</td>\n",
       "      <td>0</td>\n",
       "    </tr>\n",
       "    <tr>\n",
       "      <th>4</th>\n",
       "      <td>15804002</td>\n",
       "      <td>Male</td>\n",
       "      <td>19</td>\n",
       "      <td>76000</td>\n",
       "      <td>0</td>\n",
       "    </tr>\n",
       "  </tbody>\n",
       "</table>\n",
       "</div>"
      ],
      "text/plain": [
       "    user_id  gender  age  estimated_salary  purchased\n",
       "0  15624510    Male   19             19000          0\n",
       "1  15810944    Male   35             20000          0\n",
       "2  15668575  Female   26             43000          0\n",
       "3  15603246  Female   27             57000          0\n",
       "4  15804002    Male   19             76000          0"
      ]
     },
     "execution_count": 2,
     "metadata": {},
     "output_type": "execute_result"
    }
   ],
   "source": [
    "# Step 1: Import the data from the \"social_network_ads.csv\" file and store it in a variable 'df'\n",
    "df = pd.read_csv('social_network_ads.csv')\n",
    "\n",
    "# Step 2: Display the number of rows and columns in the dataset\n",
    "print(df.shape)\n",
    "\n",
    "# Step 3: Display the first few rows of the dataset to get an overview\n",
    "df.head()"
   ]
  },
  {
   "cell_type": "code",
   "execution_count": 3,
   "id": "a3e1a88a-47f6-4e00-96cc-8214fdf027fc",
   "metadata": {},
   "outputs": [
    {
     "data": {
      "text/plain": [
       "user_id             0\n",
       "gender              0\n",
       "age                 0\n",
       "estimated_salary    0\n",
       "purchased           0\n",
       "dtype: int64"
      ]
     },
     "execution_count": 3,
     "metadata": {},
     "output_type": "execute_result"
    }
   ],
   "source": [
    "# Step 4: Check for any missing values in the dataset and handle them appropriately\n",
    "df.isna().sum()"
   ]
  },
  {
   "cell_type": "code",
   "execution_count": 9,
   "id": "ac203aa4-bb03-4a81-afbc-12f06f520c4d",
   "metadata": {},
   "outputs": [
    {
     "name": "stdout",
     "output_type": "stream",
     "text": [
      "<matplotlib.collections.PathCollection object at 0x00000138EC40A850>\n",
      "<matplotlib.collections.PathCollection object at 0x00000138EC40AE90>\n"
     ]
    },
    {
     "data": {
      "image/png": "[encoded data removed]",
      "text/plain": [
       "<Figure size 640x480 with 1 Axes>"
      ]
     },
     "metadata": {},
     "output_type": "display_data"
    }
   ],
   "source": [
    "# Step 5: Visualize the distribution of users' age and estimated salary using scatter plots\n",
    "print(plt.scatter(df.age,df.estimated_salary))\n",
    "print(plt.scatter(df.age,df.purchased))"
   ]
  },
  {
   "cell_type": "markdown",
   "id": "851a5137-2c93-4b8a-a022-917af18c76d2",
   "metadata": {},
   "source": [
    "### Task 2: Model Training Using Logistic Regression\n",
    "\n",
    "1. Encode the `gender` column (Male as 0 and Female as 1).\n",
    "2. Select the features `(age, estimated_salary, gender)` and the target variable `(purchased)` for modeling.\n",
    "3. Split the data into training and test sets with a test size of 30%.\n",
    "4. Initialize and train a Logistic Regression model using the training data.\n",
    "5. Print the model's coefficients and intercept."
   ]
  },
  {
   "cell_type": "code",
   "execution_count": 12,
   "id": "2301a008-29ad-4e96-af4f-551aca08d634",
   "metadata": {},
   "outputs": [
    {
     "data": {
      "text/plain": [
       "0.8875"
      ]
     },
     "execution_count": 12,
     "metadata": {},
     "output_type": "execute_result"
    }
   ],
   "source": [
    "# Step 1: Encode the gender column (Male as 0 and Female as 1)\n",
    "X = df.drop(\"purchased\",axis=1)\n",
    "y = df['purchased']\n",
    "\n",
    "X_train,X_test,y_train,y_test = train_test_split(X,y,test_size=0.2,random_state=42)\n",
    "\n",
    "catagorical_features = [\"gender\"]\n",
    "\n",
    "one_hot = OneHotEncoder()\n",
    "\n",
    "transformer = ColumnTransformer([(\"one_hot\",one_hot,catagorical_features)],remainder=\"passthrough\")\n",
    "\n",
    "X_train_transformed = transformer.fit_transform(X_train)\n",
    "\n",
    "X_test_transformed = transformer.transform(X_test)\n",
    "\n",
    "# Step 2: Select the features and target variable for modeling\n",
    "model = LogisticRegression()\n",
    "model.fit(X_train_transformed,y_train)\n",
    "\n",
    "\n",
    "# Step 3: Split the data into training and test sets with a test size of 30%\n",
    "model.score(X_test_transformed,y_test)\n"
   ]
  },
  {
   "cell_type": "code",
   "execution_count": 7,
   "id": "cef018a3-fed9-4b0e-ae06-7b6927279197",
   "metadata": {},
   "outputs": [],
   "source": [
    "# Step 4: Initialize and train a Logistic Regression model using the training data\n",
    "\n",
    "\n",
    "# Step 5: Print the model's coefficients and intercept\n"
   ]
  },
  {
   "cell_type": "markdown",
   "id": "44f6603f-fbfa-41f4-a877-ae7adff1dc95",
   "metadata": {},
   "source": [
    "### Task 3: Model Evaluation\n",
    "\n",
    "1. Make predictions on the test set using the trained model.\n",
    "2. Evaluate the model using a classification report, including precision, recall, and accuracy metrics."
   ]
  },
  {
   "cell_type": "code",
   "execution_count": 14,
   "id": "18b6dedc-3751-45f1-b3b5-8b391c9e8c2e",
   "metadata": {
    "scrolled": true
   },
   "outputs": [
    {
     "name": "stdout",
     "output_type": "stream",
     "text": [
      "[0 1 0 1 0 0 1 0 0 0 0 1 0 0 0 0 1 1 0 1 0 0 0 1 0 1 1 0 1 0 0 0 1 0 1 0 0\n",
      " 0 0 0 0 0 0 0 0 1 0 0 1 0 0 1 0 0 0 0 1 0 0 0 0 0 1 0 0 0 1 1 0 0 1 0 0 0\n",
      " 0 0 1 1 0 0]\n",
      "[[0.74440009 0.25559991]\n",
      " [0.01719714 0.98280286]\n",
      " [0.98357676 0.01642324]\n",
      " [0.12387647 0.87612353]\n",
      " [0.98782686 0.01217314]\n",
      " [0.95489969 0.04510031]\n",
      " [0.09969487 0.90030513]\n",
      " [0.92459368 0.07540632]\n",
      " [0.61144195 0.38855805]\n",
      " [0.57726975 0.42273025]\n",
      " [0.86451519 0.13548481]\n",
      " [0.31966803 0.68033197]\n",
      " [0.99324348 0.00675652]\n",
      " [0.99829378 0.00170622]\n",
      " [0.89205434 0.10794566]\n",
      " [0.58888634 0.41111366]\n",
      " [0.3079104  0.6920896 ]\n",
      " [0.29917136 0.70082864]\n",
      " [0.8598445  0.1401555 ]\n",
      " [0.09066142 0.90933858]\n",
      " [0.99738425 0.00261575]\n",
      " [0.92746356 0.07253644]\n",
      " [0.67902252 0.32097748]\n",
      " [0.02759155 0.97240845]\n",
      " [0.9988231  0.0011769 ]\n",
      " [0.49979524 0.50020476]\n",
      " [0.46809289 0.53190711]\n",
      " [0.85656055 0.14343945]\n",
      " [0.01119257 0.98880743]\n",
      " [0.9987791  0.0012209 ]\n",
      " [0.59628664 0.40371336]\n",
      " [0.99303638 0.00696362]\n",
      " [0.232419   0.767581  ]\n",
      " [0.94644441 0.05355559]\n",
      " [0.35053807 0.64946193]\n",
      " [0.81206673 0.18793327]\n",
      " [0.86129542 0.13870458]\n",
      " [0.77235678 0.22764322]\n",
      " [0.99328198 0.00671802]\n",
      " [0.9947345  0.0052655 ]\n",
      " [0.56037987 0.43962013]\n",
      " [0.98836009 0.01163991]\n",
      " [0.9971813  0.0028187 ]\n",
      " [0.7076375  0.2923625 ]\n",
      " [0.99605649 0.00394351]\n",
      " [0.06553482 0.93446518]\n",
      " [0.96384395 0.03615605]\n",
      " [0.92466068 0.07533932]\n",
      " [0.49764907 0.50235093]\n",
      " [0.93917059 0.06082941]\n",
      " [0.97040917 0.02959083]\n",
      " [0.07028347 0.92971653]\n",
      " [0.83818051 0.16181949]\n",
      " [0.96845289 0.03154711]\n",
      " [0.72163703 0.27836297]\n",
      " [0.99156483 0.00843517]\n",
      " [0.00847262 0.99152738]\n",
      " [0.86913713 0.13086287]\n",
      " [0.90553794 0.09446206]\n",
      " [0.90680408 0.09319592]\n",
      " [0.74378649 0.25621351]\n",
      " [0.88293821 0.11706179]\n",
      " [0.07194135 0.92805865]\n",
      " [0.92311225 0.07688775]\n",
      " [0.96851622 0.03148378]\n",
      " [0.7236241  0.2763759 ]\n",
      " [0.35575843 0.64424157]\n",
      " [0.03115044 0.96884956]\n",
      " [0.77829926 0.22170074]\n",
      " [0.64676653 0.35323347]\n",
      " [0.01414439 0.98585561]\n",
      " [0.98936391 0.01063609]\n",
      " [0.97744138 0.02255862]\n",
      " [0.99723018 0.00276982]\n",
      " [0.60267238 0.39732762]\n",
      " [0.91061066 0.08938934]\n",
      " [0.00693557 0.99306443]\n",
      " [0.31185327 0.68814673]\n",
      " [0.91736256 0.08263744]\n",
      " [0.72420538 0.27579462]]\n",
      "              precision    recall  f1-score   support\n",
      "\n",
      "           0       0.88      0.96      0.92        52\n",
      "           1       0.91      0.75      0.82        28\n",
      "\n",
      "    accuracy                           0.89        80\n",
      "   macro avg       0.90      0.86      0.87        80\n",
      "weighted avg       0.89      0.89      0.88        80\n",
      "\n"
     ]
    }
   ],
   "source": [
    "# Step 1: Make predictions on the test set using the trained model\n",
    "\n",
    "y_pred = model.predict(X_test_transformed)\n",
    "print(y_pred)\n",
    "\n",
    "y_proba = model.predict_proba(X_test_transformed)\n",
    "print(y_proba)\n",
    "# Step 2: Evaluate the model using a classification report, including precision, recall, and accuracy metrics\n",
    "report = classification_report(y_test,y_pred)\n",
    "print(report)"
   ]
  },
  {
   "cell_type": "code",
   "execution_count": 15,
   "id": "89e47bb1-103f-4c46-8c9e-5c38be91aa9b",
   "metadata": {},
   "outputs": [
    {
     "data": {
      "text/plain": [
       "array([[50,  2],\n",
       "       [ 7, 21]])"
      ]
     },
     "execution_count": 15,
     "metadata": {},
     "output_type": "execute_result"
    }
   ],
   "source": [
    "from sklearn.metrics import confusion_matrix\n",
    "\n",
    "cm = confusion_matrix(y_test,y_pred)\n",
    "cm"
   ]
  },
  {
   "cell_type": "code",
   "execution_count": 16,
   "id": "c5829e7c-cdf7-46e7-8f65-f0cdf54877ac",
   "metadata": {},
   "outputs": [
    {
     "data": {
      "image/png": "[encoded data removed]",
      "text/plain": [
       "<Figure size 640x480 with 2 Axes>"
      ]
     },
     "metadata": {},
     "output_type": "display_data"
    }
   ],
   "source": [
    "import seaborn as sns \n",
    "classes = ['No Car',\"Owns Car\"]\n",
    "sns.heatmap(cm,annot=True,xticklabels=classes,yticklabels=classes)\n",
    "plt.xlabel('Predicted Labels')\n",
    "plt.ylabel('True labels')\n",
    "plt.title('Confusion Matrix')\n",
    "plt.show()"
   ]
  },
  {
   "cell_type": "code",
   "execution_count": null,
   "id": "f105b9e3-3a29-48bc-a81b-c151d40e0329",
   "metadata": {},
   "outputs": [],
   "source": []
  }
 ],
 "metadata": {
  "kernelspec": {
   "display_name": "Python 3 (ipykernel)",
   "language": "python",
   "name": "python3"
  },
  "language_info": {
   "codemirror_mode": {
    "name": "ipython",
    "version": 3
   },
   "file_extension": ".py",
   "mimetype": "text/x-python",
   "name": "python",
   "nbconvert_exporter": "python",
   "pygments_lexer": "ipython3",
   "version": "3.13.5"
  }
 },
 "nbformat": 4,
 "nbformat_minor": 5
}

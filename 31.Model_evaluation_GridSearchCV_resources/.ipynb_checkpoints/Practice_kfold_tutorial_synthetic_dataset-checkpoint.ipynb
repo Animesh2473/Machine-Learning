{
 "cells": [
  {
   "cell_type": "markdown",
   "id": "fb6412f6",
   "metadata": {},
   "source": [
    "<h3 align=\"center\">Codebasics ML Course: K Fold Cross Validation</h3>"
   ]
  },
  {
   "cell_type": "markdown",
   "id": "6f88a045",
   "metadata": {},
   "source": [
    "We will generate a synthetic dataset"
   ]
  },
  {
   "cell_type": "code",
   "execution_count": 1,
   "id": "3277713a",
   "metadata": {},
   "outputs": [],
   "source": [
    "import numpy as np\n",
    "import matplotlib.pyplot as plt\n",
    "from sklearn.datasets import make_classification\n",
    "from sklearn.linear_model import LogisticRegression\n",
    "from sklearn.model_selection import train_test_split\n",
    "\n",
    "X, y = make_classification(\n",
    "    n_features=10, \n",
    "    n_samples=1000, \n",
    "    n_informative=8,\n",
    "    n_redundant=2,\n",
    "    n_repeated=0,\n",
    "    n_classes=2, \n",
    "    random_state=42\n",
    ")\n",
    "\n",
    "# Split data into training and test sets\n",
    "X_train, X_test, y_train, y_test = train_test_split(X, y, test_size=0.25, random_state=42)"
   ]
  },
  {
   "cell_type": "code",
   "execution_count": 2,
   "id": "ea6c7c9b",
   "metadata": {},
   "outputs": [
    {
     "name": "stdout",
     "output_type": "stream",
     "text": [
      "              precision    recall  f1-score   support\n",
      "\n",
      "           0       0.73      0.65      0.69       130\n",
      "           1       0.66      0.74      0.70       120\n",
      "\n",
      "    accuracy                           0.70       250\n",
      "   macro avg       0.70      0.70      0.70       250\n",
      "weighted avg       0.70      0.70      0.70       250\n",
      "\n"
     ]
    }
   ],
   "source": [
    "from sklearn.metrics import classification_report\n",
    "\n",
    "model = LogisticRegression()\n",
    "model.fit(X_train, y_train)\n",
    "\n",
    "y_pred = model.predict(X_test)\n",
    "report = classification_report(y_test, y_pred)\n",
    "print(report)"
   ]
  },
  {
   "cell_type": "code",
   "execution_count": 3,
   "id": "043d9980",
   "metadata": {},
   "outputs": [
    {
     "name": "stdout",
     "output_type": "stream",
     "text": [
      "[0 2 3 4] [1]\n",
      "[0 1 2 3] [4]\n",
      "[0 1 3 4] [2]\n",
      "[1 2 3 4] [0]\n",
      "[0 1 2 4] [3]\n"
     ]
    }
   ],
   "source": [
    "from sklearn.model_selection import KFold\n",
    "\n",
    "kf = KFold(n_splits=5, shuffle=True, random_state=42)\n",
    "\n",
    "for train_index, test_index in kf.split([50,60,70,80,90]):\n",
    "    print(train_index, test_index)"
   ]
  },
  {
   "cell_type": "code",
   "execution_count": 4,
   "id": "dcbda97e",
   "metadata": {},
   "outputs": [
    {
     "name": "stdout",
     "output_type": "stream",
     "text": [
      "0.675\n",
      "0.715\n",
      "0.72\n",
      "0.645\n",
      "0.72\n"
     ]
    }
   ],
   "source": [
    "model = LogisticRegression()\n",
    "\n",
    "for train_index, test_index in kf.split(X, y):\n",
    "    X_train, X_test = X[train_index], X[test_index]\n",
    "    y_train, y_test = y[train_index], y[test_index]  \n",
    "    model.fit(X_train, y_train)\n",
    "    print(model.score(X_test, y_test))"
   ]
  },
  {
   "cell_type": "markdown",
   "id": "135fadc3",
   "metadata": {},
   "source": [
    "### Cross validation on Logistic Regression"
   ]
  },
  {
   "cell_type": "code",
   "execution_count": 5,
   "id": "cf383c1a",
   "metadata": {},
   "outputs": [
    {
     "data": {
      "text/plain": [
       "array([0.71 , 0.69 , 0.655, 0.685, 0.7  ])"
      ]
     },
     "execution_count": 5,
     "metadata": {},
     "output_type": "execute_result"
    }
   ],
   "source": [
    "from sklearn.model_selection import cross_val_score\n",
    "\n",
    "scores = cross_val_score(LogisticRegression(),X,y,cv=5)\n",
    "scores"
   ]
  },
  {
   "cell_type": "markdown",
   "id": "e07495e1",
   "metadata": {},
   "source": [
    "### Cross validation on Decision Tree"
   ]
  },
  {
   "cell_type": "code",
   "execution_count": 6,
   "id": "33aec816",
   "metadata": {},
   "outputs": [
    {
     "data": {
      "text/plain": [
       "array([0.825, 0.735, 0.8  , 0.805, 0.815])"
      ]
     },
     "execution_count": 6,
     "metadata": {},
     "output_type": "execute_result"
    }
   ],
   "source": [
    "from sklearn.tree import DecisionTreeClassifier\n",
    "scores = cross_val_score(DecisionTreeClassifier(),X,y,cv=5)\n",
    "scores"
   ]
  },
  {
   "cell_type": "markdown",
   "id": "d7f6b5e8",
   "metadata": {},
   "source": [
    "### Cross validation on Random Forest"
   ]
  },
  {
   "cell_type": "code",
   "execution_count": 7,
   "id": "60528d20",
   "metadata": {},
   "outputs": [
    {
     "data": {
      "text/plain": [
       "array([0.875, 0.85 , 0.9  , 0.92 , 0.895])"
      ]
     },
     "execution_count": 7,
     "metadata": {},
     "output_type": "execute_result"
    }
   ],
   "source": [
    "from sklearn.ensemble import RandomForestClassifier\n",
    "cross_val_score(RandomForestClassifier(),X,y,cv=5)"
   ]
  },
  {
   "cell_type": "markdown",
   "id": "592dba46",
   "metadata": {},
   "source": [
    "### Cross validation to evaluate same model with different parameters"
   ]
  },
  {
   "cell_type": "markdown",
   "id": "8ec69348",
   "metadata": {},
   "source": [
    "Random Forest on 20 Trees"
   ]
  },
  {
   "cell_type": "code",
   "execution_count": 8,
   "id": "de3be8ff",
   "metadata": {},
   "outputs": [
    {
     "data": {
      "text/plain": [
       "np.float64(0.8580000000000002)"
      ]
     },
     "execution_count": 8,
     "metadata": {},
     "output_type": "execute_result"
    }
   ],
   "source": [
    "score_rfc = cross_val_score(RandomForestClassifier(n_estimators=20),X,y,cv=5)\n",
    "np.mean(score_rfc)"
   ]
  },
  {
   "cell_type": "markdown",
   "id": "90de0f54",
   "metadata": {},
   "source": [
    "Random Forest on 30 Trees"
   ]
  },
  {
   "cell_type": "code",
   "execution_count": 9,
   "id": "9f54fc8f",
   "metadata": {},
   "outputs": [
    {
     "data": {
      "text/plain": [
       "np.float64(0.94712)"
      ]
     },
     "execution_count": 9,
     "metadata": {},
     "output_type": "execute_result"
    }
   ],
   "source": [
    "score_rfc = cross_val_score(RandomForestClassifier(n_estimators=30),X,y,cv=5,scoring='roc_auc')\n",
    "np.average(score_rfc)"
   ]
  },
  {
   "cell_type": "markdown",
   "id": "ea68a057",
   "metadata": {},
   "source": [
    "### Using cross_validate to evaluate multiple metrics"
   ]
  },
  {
   "cell_type": "code",
   "execution_count": 10,
   "id": "ba1c12f1",
   "metadata": {},
   "outputs": [
    {
     "data": {
      "text/plain": [
       "{'fit_time': array([0.70404315, 0.72767234, 0.71660256, 0.71657658, 0.75829768]),\n",
       " 'score_time': array([0.04942751, 0.04768896, 0.04792714, 0.05448508, 0.04779387]),\n",
       " 'test_accuracy': array([0.88 , 0.86 , 0.9  , 0.915, 0.87 ]),\n",
       " 'test_roc_auc': array([0.9411 , 0.95115, 0.96515, 0.95695, 0.9417 ])}"
      ]
     },
     "execution_count": 10,
     "metadata": {},
     "output_type": "execute_result"
    }
   ],
   "source": [
    "from sklearn.model_selection import cross_validate\n",
    "cross_validate(RandomForestClassifier(),X,y,cv=5,scoring=['accuracy','roc_auc'])"
   ]
  },
  {
   "cell_type": "code",
   "execution_count": 11,
   "id": "f06924e5-5d16-4637-a6a0-21b4d61f4316",
   "metadata": {},
   "outputs": [],
   "source": [
    "from sklearn.model_selection import StratifiedKFold\n",
    "\n",
    "skf = StratifiedKFold(n_splits=5,shuffle=True,random_state=42)"
   ]
  },
  {
   "cell_type": "code",
   "execution_count": 12,
   "id": "d9d48917-c4d3-4886-963b-a0cdea62454d",
   "metadata": {},
   "outputs": [
    {
     "data": {
      "text/plain": [
       "np.float64(0.8629999999999999)"
      ]
     },
     "execution_count": 12,
     "metadata": {},
     "output_type": "execute_result"
    }
   ],
   "source": [
    "score_rfc = cross_val_score(RandomForestClassifier(n_estimators=20),X,y,cv=skf)\n",
    "np.mean(score_rfc)"
   ]
  },
  {
   "cell_type": "code",
   "execution_count": 13,
   "id": "a1cda327-27e8-45f7-8b22-a1ccde8efe42",
   "metadata": {},
   "outputs": [
    {
     "data": {
      "text/plain": [
       "np.float64(0.9386199999999999)"
      ]
     },
     "execution_count": 13,
     "metadata": {},
     "output_type": "execute_result"
    }
   ],
   "source": [
    "score_rfc = cross_val_score(RandomForestClassifier(n_estimators=30),X,y,cv=skf,scoring='roc_auc')\n",
    "np.average(score_rfc)"
   ]
  },
  {
   "cell_type": "code",
   "execution_count": null,
   "id": "6918e9aa-e78a-414a-91ad-b290db091a4b",
   "metadata": {},
   "outputs": [],
   "source": [
    "from sklearn.model_selection import GridSearchCV\n",
    "\n",
    "pram_grid_clf = {'criterion' : [\"gini\", \"entropy\", \"log_loss\"],\n",
    "             'splitter' : [\"best\", \"random\"],\n",
    "             'max_features' : [int, float ,'sqrt', \"log2\",None],\n",
    "              'max_depth': list(range(50,150)),\n",
    "              'class_weight' :[None, \"balanced\"],\n",
    "              'monotonic_cst':[0,1,-1,None],\n",
    "              'max_leaf_nodes':list(range(1,100))\n",
    "             }\n",
    "\n",
    "clf = GridSearchCV(\n",
    "     DecisionTreeClassifier(),\n",
    "     param_grid=pram_grid_clf,\n",
    "     cv = skf\n",
    ")\n",
    "\n",
    "clf.fit(X,y)\n",
    "clf.cv_results_"
   ]
  },
  {
   "cell_type": "code",
   "execution_count": null,
   "id": "a4e71178-cadd-493d-8a2c-0665168891e9",
   "metadata": {},
   "outputs": [],
   "source": [
    "  "
   ]
  }
 ],
 "metadata": {
  "kernelspec": {
   "display_name": "Python 3 (ipykernel)",
   "language": "python",
   "name": "python3"
  },
  "language_info": {
   "codemirror_mode": {
    "name": "ipython",
    "version": 3
   },
   "file_extension": ".py",
   "mimetype": "text/x-python",
   "name": "python",
   "nbconvert_exporter": "python",
   "pygments_lexer": "ipython3",
   "version": "3.13.5"
  }
 },
 "nbformat": 4,
 "nbformat_minor": 5
}

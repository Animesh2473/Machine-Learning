{
 "cells": [
  {
   "cell_type": "code",
   "execution_count": 85,
   "id": "7498887b-7539-4fbf-a72a-2e5daee1f3c4",
   "metadata": {},
   "outputs": [],
   "source": [
    "# from sklearn.preprocessing import OneHotEncoder\n",
    "# from sklearn.compose import ColumnTransformer\n",
    "\n",
    "# # 1. Define the categorical features we'd like to transform.\n",
    "# categorical_features = ['Colour','Make','Doors']\n",
    "\n",
    "# # 2.Create an instance of the OneHotEncoder.\n",
    "# one_hot = OneHotEncoder()\n",
    "\n",
    "# # 3. Create an instance of ColumnTransformer and feed it the transforms we'd like to make.\n",
    "# transformer = ColumnTransformer([('one_hot',one_hot,categorical_features)], # transformer = List inside the touple \n",
    "#                                 remainder='passthrough')\n",
    "\n",
    "# transformed_X = transformer.fit_transform(X)\n",
    "\n",
    "# transformed_X"
   ]
  },
  {
   "cell_type": "code",
   "execution_count": 86,
   "id": "91c73120-7bd3-4591-870b-bcaad381859d",
   "metadata": {},
   "outputs": [],
   "source": [
    "import pandas as pd\n",
    "import numpy as np\n",
    "from sklearn.linear_model import LinearRegression\n",
    "from sklearn.model_selection import train_test_split\n",
    "from sklearn.metrics import mean_absolute_error,mean_squared_error,r2_score"
   ]
  },
  {
   "cell_type": "code",
   "execution_count": 87,
   "id": "4ccb8977-f276-49b5-ac1f-6774a06c5686",
   "metadata": {},
   "outputs": [
    {
     "data": {
      "text/html": [
       "<div>\n",
       "<style scoped>\n",
       "    .dataframe tbody tr th:only-of-type {\n",
       "        vertical-align: middle;\n",
       "    }\n",
       "\n",
       "    .dataframe tbody tr th {\n",
       "        vertical-align: top;\n",
       "    }\n",
       "\n",
       "    .dataframe thead th {\n",
       "        text-align: right;\n",
       "    }\n",
       "</style>\n",
       "<table border=\"1\" class=\"dataframe\">\n",
       "  <thead>\n",
       "    <tr style=\"text-align: right;\">\n",
       "      <th></th>\n",
       "      <th>locality</th>\n",
       "      <th>area_sqr_ft</th>\n",
       "      <th>price_lakhs</th>\n",
       "      <th>bedrooms</th>\n",
       "    </tr>\n",
       "  </thead>\n",
       "  <tbody>\n",
       "    <tr>\n",
       "      <th>0</th>\n",
       "      <td>Kollur</td>\n",
       "      <td>656</td>\n",
       "      <td>39.0</td>\n",
       "      <td>2</td>\n",
       "    </tr>\n",
       "    <tr>\n",
       "      <th>1</th>\n",
       "      <td>Kollur</td>\n",
       "      <td>1260</td>\n",
       "      <td>83.2</td>\n",
       "      <td>2</td>\n",
       "    </tr>\n",
       "    <tr>\n",
       "      <th>2</th>\n",
       "      <td>Kollur</td>\n",
       "      <td>1057</td>\n",
       "      <td>86.6</td>\n",
       "      <td>3</td>\n",
       "    </tr>\n",
       "    <tr>\n",
       "      <th>3</th>\n",
       "      <td>Kollur</td>\n",
       "      <td>1259</td>\n",
       "      <td>59.0</td>\n",
       "      <td>2</td>\n",
       "    </tr>\n",
       "    <tr>\n",
       "      <th>4</th>\n",
       "      <td>Kollur</td>\n",
       "      <td>1800</td>\n",
       "      <td>140.0</td>\n",
       "      <td>3</td>\n",
       "    </tr>\n",
       "  </tbody>\n",
       "</table>\n",
       "</div>"
      ],
      "text/plain": [
       "  locality  area_sqr_ft  price_lakhs  bedrooms\n",
       "0   Kollur          656         39.0         2\n",
       "1   Kollur         1260         83.2         2\n",
       "2   Kollur         1057         86.6         3\n",
       "3   Kollur         1259         59.0         2\n",
       "4   Kollur         1800        140.0         3"
      ]
     },
     "execution_count": 87,
     "metadata": {},
     "output_type": "execute_result"
    }
   ],
   "source": [
    "df = pd.read_csv(\"home_prices.csv\")\n",
    "df.head()"
   ]
  },
  {
   "cell_type": "code",
   "execution_count": 88,
   "id": "72a66463-569e-44e0-9847-18e3538b0404",
   "metadata": {},
   "outputs": [
    {
     "name": "stdout",
     "output_type": "stream",
     "text": [
      "<class 'pandas.core.frame.DataFrame'>\n",
      "RangeIndex: 22 entries, 0 to 21\n",
      "Data columns (total 4 columns):\n",
      " #   Column       Non-Null Count  Dtype  \n",
      "---  ------       --------------  -----  \n",
      " 0   locality     22 non-null     object \n",
      " 1   area_sqr_ft  22 non-null     int64  \n",
      " 2   price_lakhs  22 non-null     float64\n",
      " 3   bedrooms     22 non-null     int64  \n",
      "dtypes: float64(1), int64(2), object(1)\n",
      "memory usage: 836.0+ bytes\n"
     ]
    }
   ],
   "source": [
    "df.info()"
   ]
  },
  {
   "cell_type": "code",
   "execution_count": 89,
   "id": "06259bee-615e-4666-9c06-5c45d93dab5e",
   "metadata": {},
   "outputs": [
    {
     "data": {
      "text/plain": [
       "locality       0\n",
       "area_sqr_ft    0\n",
       "price_lakhs    0\n",
       "bedrooms       0\n",
       "dtype: int64"
      ]
     },
     "execution_count": 89,
     "metadata": {},
     "output_type": "execute_result"
    }
   ],
   "source": [
    "df.isna().sum()"
   ]
  },
  {
   "cell_type": "code",
   "execution_count": 90,
   "id": "fa68ee82-2ce8-4e36-9bc7-cadde2918c9d",
   "metadata": {},
   "outputs": [
    {
     "data": {
      "text/html": [
       "<div>\n",
       "<style scoped>\n",
       "    .dataframe tbody tr th:only-of-type {\n",
       "        vertical-align: middle;\n",
       "    }\n",
       "\n",
       "    .dataframe tbody tr th {\n",
       "        vertical-align: top;\n",
       "    }\n",
       "\n",
       "    .dataframe thead th {\n",
       "        text-align: right;\n",
       "    }\n",
       "</style>\n",
       "<table border=\"1\" class=\"dataframe\">\n",
       "  <thead>\n",
       "    <tr style=\"text-align: right;\">\n",
       "      <th></th>\n",
       "      <th>area_sqr_ft</th>\n",
       "      <th>price_lakhs</th>\n",
       "      <th>bedrooms</th>\n",
       "    </tr>\n",
       "  </thead>\n",
       "  <tbody>\n",
       "    <tr>\n",
       "      <th>count</th>\n",
       "      <td>22.000000</td>\n",
       "      <td>22.000000</td>\n",
       "      <td>22.000000</td>\n",
       "    </tr>\n",
       "    <tr>\n",
       "      <th>mean</th>\n",
       "      <td>1472.454545</td>\n",
       "      <td>129.313636</td>\n",
       "      <td>2.500000</td>\n",
       "    </tr>\n",
       "    <tr>\n",
       "      <th>std</th>\n",
       "      <td>518.796109</td>\n",
       "      <td>98.240338</td>\n",
       "      <td>0.511766</td>\n",
       "    </tr>\n",
       "    <tr>\n",
       "      <th>min</th>\n",
       "      <td>656.000000</td>\n",
       "      <td>39.000000</td>\n",
       "      <td>2.000000</td>\n",
       "    </tr>\n",
       "    <tr>\n",
       "      <th>25%</th>\n",
       "      <td>1102.500000</td>\n",
       "      <td>67.500000</td>\n",
       "      <td>2.000000</td>\n",
       "    </tr>\n",
       "    <tr>\n",
       "      <th>50%</th>\n",
       "      <td>1263.000000</td>\n",
       "      <td>85.800000</td>\n",
       "      <td>2.500000</td>\n",
       "    </tr>\n",
       "    <tr>\n",
       "      <th>75%</th>\n",
       "      <td>1687.500000</td>\n",
       "      <td>147.500000</td>\n",
       "      <td>3.000000</td>\n",
       "    </tr>\n",
       "    <tr>\n",
       "      <th>max</th>\n",
       "      <td>2600.000000</td>\n",
       "      <td>400.000000</td>\n",
       "      <td>3.000000</td>\n",
       "    </tr>\n",
       "  </tbody>\n",
       "</table>\n",
       "</div>"
      ],
      "text/plain": [
       "       area_sqr_ft  price_lakhs   bedrooms\n",
       "count    22.000000    22.000000  22.000000\n",
       "mean   1472.454545   129.313636   2.500000\n",
       "std     518.796109    98.240338   0.511766\n",
       "min     656.000000    39.000000   2.000000\n",
       "25%    1102.500000    67.500000   2.000000\n",
       "50%    1263.000000    85.800000   2.500000\n",
       "75%    1687.500000   147.500000   3.000000\n",
       "max    2600.000000   400.000000   3.000000"
      ]
     },
     "execution_count": 90,
     "metadata": {},
     "output_type": "execute_result"
    }
   ],
   "source": [
    "df.describe()"
   ]
  },
  {
   "cell_type": "code",
   "execution_count": 91,
   "id": "7c4f396a-557f-444f-81cf-5be03cbda092",
   "metadata": {},
   "outputs": [
    {
     "data": {
      "text/html": [
       "<div>\n",
       "<style scoped>\n",
       "    .dataframe tbody tr th:only-of-type {\n",
       "        vertical-align: middle;\n",
       "    }\n",
       "\n",
       "    .dataframe tbody tr th {\n",
       "        vertical-align: top;\n",
       "    }\n",
       "\n",
       "    .dataframe thead th {\n",
       "        text-align: right;\n",
       "    }\n",
       "</style>\n",
       "<table border=\"1\" class=\"dataframe\">\n",
       "  <thead>\n",
       "    <tr style=\"text-align: right;\">\n",
       "      <th></th>\n",
       "      <th>area_sqr_ft</th>\n",
       "      <th>price_lakhs</th>\n",
       "      <th>bedrooms</th>\n",
       "      <th>locality_Kollur</th>\n",
       "      <th>locality_Mankhal</th>\n",
       "    </tr>\n",
       "  </thead>\n",
       "  <tbody>\n",
       "    <tr>\n",
       "      <th>10</th>\n",
       "      <td>2438</td>\n",
       "      <td>316.0</td>\n",
       "      <td>3</td>\n",
       "      <td>False</td>\n",
       "      <td>False</td>\n",
       "    </tr>\n",
       "    <tr>\n",
       "      <th>16</th>\n",
       "      <td>1100</td>\n",
       "      <td>54.0</td>\n",
       "      <td>2</td>\n",
       "      <td>False</td>\n",
       "      <td>True</td>\n",
       "    </tr>\n",
       "    <tr>\n",
       "      <th>21</th>\n",
       "      <td>1200</td>\n",
       "      <td>85.0</td>\n",
       "      <td>3</td>\n",
       "      <td>False</td>\n",
       "      <td>True</td>\n",
       "    </tr>\n",
       "    <tr>\n",
       "      <th>5</th>\n",
       "      <td>1325</td>\n",
       "      <td>80.1</td>\n",
       "      <td>2</td>\n",
       "      <td>True</td>\n",
       "      <td>False</td>\n",
       "    </tr>\n",
       "    <tr>\n",
       "      <th>6</th>\n",
       "      <td>1085</td>\n",
       "      <td>116.0</td>\n",
       "      <td>3</td>\n",
       "      <td>True</td>\n",
       "      <td>False</td>\n",
       "    </tr>\n",
       "  </tbody>\n",
       "</table>\n",
       "</div>"
      ],
      "text/plain": [
       "    area_sqr_ft  price_lakhs  bedrooms  locality_Kollur  locality_Mankhal\n",
       "10         2438        316.0         3            False             False\n",
       "16         1100         54.0         2            False              True\n",
       "21         1200         85.0         3            False              True\n",
       "5          1325         80.1         2             True             False\n",
       "6          1085        116.0         3             True             False"
      ]
     },
     "execution_count": 91,
     "metadata": {},
     "output_type": "execute_result"
    }
   ],
   "source": [
    "df_endoded_1 = pd.get_dummies(df,columns=[\"locality\"],drop_first=True) \n",
    "''' \n",
    "drop_first : bool, default False \n",
    "Whether to get k-1 dummies out of k categorical levels by removing the first level.\n",
    "'''\n",
    "df_endoded_1.sample(5) # here we have droped one dolumn to avoid Multicolinearity"
   ]
  },
  {
   "cell_type": "code",
   "execution_count": 95,
   "id": "feb5d5cc-b398-4e8c-8da8-9d6438be6796",
   "metadata": {},
   "outputs": [
    {
     "name": "stdout",
     "output_type": "stream",
     "text": [
      "<class 'pandas.core.frame.DataFrame'>\n",
      "RangeIndex: 22 entries, 0 to 21\n",
      "Data columns (total 3 columns):\n",
      " #   Column       Non-Null Count  Dtype \n",
      "---  ------       --------------  ----- \n",
      " 0   locality     22 non-null     object\n",
      " 1   area_sqr_ft  22 non-null     int64 \n",
      " 2   bedrooms     22 non-null     int64 \n",
      "dtypes: int64(2), object(1)\n",
      "memory usage: 660.0+ bytes\n"
     ]
    }
   ],
   "source": [
    "X2 = df.drop(\"price_lakhs\",axis=1)\n",
    "X2.info()"
   ]
  },
  {
   "cell_type": "markdown",
   "id": "0b4b61f5-9c23-465e-b24c-40f13420eb09",
   "metadata": {},
   "source": [
    "# Steps to use One hot encoder\n",
    "1. do the test_train_split\n",
    "2. Define the catagorical,numerical,repeating, features\n",
    "3. create an instance of One hot encoder\n",
    "4. now Set up the Column Transformer\n",
    "5. fit transform in both X_train and X_test create seprate variable for it.\n",
    "6. define the model\n",
    "7. fit the model\n",
    "8. evaluate the model"
   ]
  },
  {
   "cell_type": "code",
   "execution_count": 98,
   "id": "b29ee63c-48ce-4953-aee7-fa2486e25192",
   "metadata": {},
   "outputs": [
    {
     "data": {
      "text/plain": [
       "array([  1.05505646, 278.66098949, 151.86615008,  73.29726377,\n",
       "       302.58225018])"
      ]
     },
     "execution_count": 98,
     "metadata": {},
     "output_type": "execute_result"
    }
   ],
   "source": [
    "from sklearn.model_selection import train_test_split\n",
    "from sklearn.preprocessing import OneHotEncoder\n",
    "from sklearn.compose import ColumnTransformer\n",
    "from sklearn.linear_model import LinearRegression\n",
    "\n",
    "# Split as DataFrame (not .values!)\n",
    "X2_train, X2_test, y2_train, y2_test = train_test_split(X2, y2, test_size=0.2, random_state=42)\n",
    "\n",
    "# Define categorical features\n",
    "categorical_features = ['locality']\n",
    "\n",
    "# Set up the OneHotEncoder\n",
    "one_hot = OneHotEncoder()\n",
    "\n",
    "# Set up the ColumnTransformer\n",
    "transformer = ColumnTransformer(\n",
    "    transformers=[('one_hot', one_hot, categorical_features)],\n",
    "    remainder='passthrough'  # Leave other columns untouched\n",
    ")\n",
    "\n",
    "# Fit and transform training data\n",
    "X2_train_enc = transformer.fit_transform(X2_train)\n",
    "\n",
    "# Only transform test data (don't fit again)\n",
    "X2_test_enc = transformer.transform(X2_test)\n",
    "\n",
    "# Train the model\n",
    "model_2 = LinearRegression()\n",
    "model_2.fit(X2_train_enc, y2_train)\n",
    "\n",
    "# Predict\n",
    "y_preds_2 = model_2.predict(X2_test_enc)\n",
    "\n",
    "y_preds_2"
   ]
  },
  {
   "cell_type": "markdown",
   "id": "696c492b-2f75-4ab5-bcb2-ad0a98381b4f",
   "metadata": {},
   "source": [
    "### Train test Split"
   ]
  },
  {
   "cell_type": "markdown",
   "id": "ecadbdf8-25eb-46b7-b65c-df8a924292d3",
   "metadata": {},
   "source": [
    "#### Model 1 with get Dummies"
   ]
  },
  {
   "cell_type": "code",
   "execution_count": null,
   "id": "f99acae5-d845-44cb-8984-103cfffb4726",
   "metadata": {},
   "outputs": [],
   "source": [
    "X1 = df_endoded_1.drop(\"price_lakhs\",axis=1)\n",
    "y1 = df_endoded_1.price_lakhs\n",
    "\n",
    "X1_train,X1_test,y1_train,y1_test = train_test_split(X1,y1,test_size=0.2,random_state=42)\n",
    "\n",
    "X1_train.shape,X1_test.shape"
   ]
  },
  {
   "cell_type": "code",
   "execution_count": null,
   "id": "c0571211-4894-4e8c-915a-4a4ab92d5026",
   "metadata": {},
   "outputs": [],
   "source": [
    "y1_train.shape,y1_test.shape"
   ]
  },
  {
   "cell_type": "markdown",
   "id": "eadb109f-2c77-4dc4-ae35-c876735c3e46",
   "metadata": {},
   "source": [
    "#### Model 2 with get One hot encoder and ColumnTransform"
   ]
  },
  {
   "cell_type": "code",
   "execution_count": null,
   "id": "b89a3af8-f8c0-42ef-8cc3-b13241bb2260",
   "metadata": {},
   "outputs": [],
   "source": [
    "\n",
    "\n",
    "X2_train.shape,X2_test.shape"
   ]
  },
  {
   "cell_type": "code",
   "execution_count": null,
   "id": "6af9925f-7466-486a-b6ab-8cd8d3b4b616",
   "metadata": {},
   "outputs": [],
   "source": [
    "y2_train.shape,y2_train.shape"
   ]
  },
  {
   "cell_type": "code",
   "execution_count": null,
   "id": "f0728750-1cdf-4f40-b87b-75899805593b",
   "metadata": {},
   "outputs": [],
   "source": [
    "# # I think wehave to make a shape right\n",
    "# X2_train = X2_train.T\n",
    "\n",
    "# X2_train.shape"
   ]
  },
  {
   "cell_type": "markdown",
   "id": "5a6f42cb-5e14-401e-8567-45c9b5fa55d5",
   "metadata": {},
   "source": [
    "### Modle score and evaluation"
   ]
  },
  {
   "cell_type": "markdown",
   "id": "f59596db-c754-4e7a-9c4b-57bf76603526",
   "metadata": {},
   "source": [
    "#### Model 1 with get Dummies"
   ]
  },
  {
   "cell_type": "code",
   "execution_count": null,
   "id": "ae503a83-8bb1-416e-9a8a-c22822aea548",
   "metadata": {},
   "outputs": [],
   "source": [
    "model_1 = LinearRegression()\n",
    "\n",
    "model_1.fit(X1_train,y1_train)\n",
    "\n",
    "y_preds_1 = model_1.predict(X1_test)\n",
    "\n",
    "y_preds_1"
   ]
  },
  {
   "cell_type": "code",
   "execution_count": null,
   "id": "075636db-7fe1-4ac8-a21a-8ba517e9f90b",
   "metadata": {},
   "outputs": [],
   "source": [
    "model_1.score(X1_test,y1_test)"
   ]
  },
  {
   "cell_type": "code",
   "execution_count": null,
   "id": "121890dc-8d22-47e8-9785-551e29ad2aa2",
   "metadata": {},
   "outputs": [],
   "source": [
    "mse = mean_squared_error(y_true=y1_test,y_pred=y_preds_1)\n",
    "mse"
   ]
  },
  {
   "cell_type": "code",
   "execution_count": null,
   "id": "5ec530d4-11db-467b-97cb-fb9b8922b2e8",
   "metadata": {},
   "outputs": [],
   "source": [
    "mae = mean_absolute_error(y_true=y1_test,y_pred=y_preds_1)\n",
    "mae"
   ]
  },
  {
   "cell_type": "code",
   "execution_count": 99,
   "id": "73843e90-d3f8-4296-93c0-f1da6e1b34d1",
   "metadata": {},
   "outputs": [
    {
     "data": {
      "text/plain": [
       "0.8558905263155381"
      ]
     },
     "execution_count": 99,
     "metadata": {},
     "output_type": "execute_result"
    }
   ],
   "source": [
    "r2_score = r2_score(y_true=y1_test,y_pred=y_preds_1)\n",
    "r2_score"
   ]
  },
  {
   "cell_type": "markdown",
   "id": "0d480904-392a-4cd2-b98f-43f9b0ec456d",
   "metadata": {},
   "source": [
    "#### Model 2 with get One hot encoder and ColumnTransform"
   ]
  },
  {
   "cell_type": "code",
   "execution_count": 100,
   "id": "94af06a7-f75f-4239-8216-b41b9dae40b7",
   "metadata": {},
   "outputs": [
    {
     "data": {
      "text/plain": [
       "2834.7103594793043"
      ]
     },
     "execution_count": 100,
     "metadata": {},
     "output_type": "execute_result"
    }
   ],
   "source": [
    "mse = mean_squared_error(y_true=y2_test,y_pred=y_preds_2)\n",
    "mse"
   ]
  },
  {
   "cell_type": "code",
   "execution_count": 101,
   "id": "8984228f-39ea-4007-a159-89957a45211b",
   "metadata": {},
   "outputs": [
    {
     "data": {
      "text/plain": [
       "43.69411803450022"
      ]
     },
     "execution_count": 101,
     "metadata": {},
     "output_type": "execute_result"
    }
   ],
   "source": [
    "mae = mean_absolute_error(y_true=y2_test,y_pred=y_preds_2)\n",
    "mae"
   ]
  },
  {
   "cell_type": "code",
   "execution_count": 109,
   "id": "2b3b2d88-7bad-4267-b404-1ffd96ec74c2",
   "metadata": {},
   "outputs": [],
   "source": [
    "# r2_score = r2_score(y_true=y2_test,y_pred=y_preds_2)\n",
    "# r2_score"
   ]
  },
  {
   "cell_type": "code",
   "execution_count": 107,
   "id": "3d686779-df17-4afe-b79c-655d977192d5",
   "metadata": {},
   "outputs": [
    {
     "data": {
      "text/plain": [
       "1.0"
      ]
     },
     "execution_count": 107,
     "metadata": {},
     "output_type": "execute_result"
    }
   ],
   "source": [
    "model_2.score(X2_test_enc, y_preds_2)"
   ]
  }
 ],
 "metadata": {
  "kernelspec": {
   "display_name": "Python 3 (ipykernel)",
   "language": "python",
   "name": "python3"
  },
  "language_info": {
   "codemirror_mode": {
    "name": "ipython",
    "version": 3
   },
   "file_extension": ".py",
   "mimetype": "text/x-python",
   "name": "python",
   "nbconvert_exporter": "python",
   "pygments_lexer": "ipython3",
   "version": "3.13.5"
  }
 },
 "nbformat": 4,
 "nbformat_minor": 5
}
